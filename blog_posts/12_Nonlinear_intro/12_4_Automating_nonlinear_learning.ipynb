{
 "cells": [
  {
   "cell_type": "markdown",
   "metadata": {
    "collapsed": true,
    "slideshow": {
     "slide_type": "skip"
    }
   },
   "source": [
    "## Chapter 12: Introduction to nonlinear learning"
   ]
  },
  {
   "cell_type": "markdown",
   "metadata": {
    "slideshow": {
     "slide_type": "slide"
    }
   },
   "source": [
    "# 12.4  Automating nonlinear learning"
   ]
  },
  {
   "cell_type": "markdown",
   "metadata": {},
   "source": [
    "In the previous Sections of this Chapter we saw how to inject arbitrary nonlinear models into both our supervised and unsupervised learning paradigms.  However the specific examples we saw illustrating how those principles can be employed were rather simplistic, indeed they were designed specifically so that a proper form of nonlinearity could be determined by visual examination of the data.  Of course we cannot rely on our visualization abilities in general - most modern datasets have far more than two inputs which makes visualization impossible.  Even in those instances when we can visualize our data it is usually not obvious what sort of explicit nonlinearty(ies) should be used (as with the examples shown in the figure below).\n",
    "\n",
    "<figure>\n",
    "    <img src= '../../mlrefined_images/nonlinear_superlearn_images/nonlinear_combined.png' width=\"75%\" height=\"75%\" alt=\"\"/>\n",
    "<figcaption>   \n",
    "<strong>Figure 1:</strong> <em> \n",
    "Toy regression (left) and classification (right) datasets that present nonlinear behavior.  What specific nonlinear feature transformations would you choose for each dataset?  In other words, what sort of specific nonlinearity do you think provides the best nonlinear fit with the regression dataset, and nonlinear separation (a boundary roughly matching the dashed ovoid ones highlighted in the right panel) with the classification data?  It is not obvious (at least to us).\n",
    "</em>  </figcaption> \n",
    "</figure>"
   ]
  },
  {
   "cell_type": "markdown",
   "metadata": {},
   "source": [
    "However more importantly we do not want to have to identify appropriate nonlinearities ourselves - whether we do this 'by eye' or by our mathematical or philisophical method (i.e., via a *differential equations* / *dynamic systems* mindset).  With machine learning we want to take the 'easy' way out: **we want to automate the process of determining the best nonlinearity(ies) for general datastets**. "
   ]
  },
  {
   "cell_type": "markdown",
   "metadata": {},
   "source": [
    "> In machine learning we automate the process of identifying the appropriate nonlinearities / feature transformations for a dataset."
   ]
  },
  {
   "cell_type": "markdown",
   "metadata": {},
   "source": [
    "## Where do we begin?"
   ]
  },
  {
   "cell_type": "markdown",
   "metadata": {},
   "source": [
    "The aim to automate nonnlinear learning is an ambitious goal and perhaps - at the start - a seemingly intimidating one.  There are an infinite number of nonlinearities to choose from, how do we winnow down these countless choices into a managable, predictable, and user-friendly program?    In the next two Sections we introduce the main building blocks of nonlinear automation, called *universal approximators* and *cross-validation*.  "
   ]
  }
 ],
 "metadata": {
  "kernelspec": {
   "display_name": "Python 3",
   "language": "python",
   "name": "python3"
  },
  "language_info": {
   "codemirror_mode": {
    "name": "ipython",
    "version": 3
   },
   "file_extension": ".py",
   "mimetype": "text/x-python",
   "name": "python",
   "nbconvert_exporter": "python",
   "pygments_lexer": "ipython3",
   "version": "3.5.3"
  },
  "toc": {
   "colors": {
    "hover_highlight": "#DAA520",
    "navigate_num": "#000000",
    "navigate_text": "#333333",
    "running_highlight": "#FF0000",
    "selected_highlight": "#FFD700",
    "sidebar_border": "#EEEEEE",
    "wrapper_background": "#FFFFFF"
   },
   "moveMenuLeft": true,
   "nav_menu": {
    "height": "103px",
    "width": "252px"
   },
   "navigate_menu": true,
   "number_sections": false,
   "sideBar": true,
   "threshold": 4,
   "toc_cell": false,
   "toc_section_display": "block",
   "toc_window_display": false,
   "widenNotebook": false
  },
  "widgets": {
   "application/vnd.jupyter.widget-state+json": {
    "state": {},
    "version_major": 1,
    "version_minor": 0
   }
  }
 },
 "nbformat": 4,
 "nbformat_minor": 2
}
