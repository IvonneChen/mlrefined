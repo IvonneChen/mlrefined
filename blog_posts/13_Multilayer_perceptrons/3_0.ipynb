{
 "cells": [
  {
   "cell_type": "markdown",
   "metadata": {},
   "source": [
    "# introducing the notion of gradient direction - dividing off magnitude"
   ]
  },
  {
   "cell_type": "markdown",
   "metadata": {},
   "source": [
    "## - for single input"
   ]
  },
  {
   "cell_type": "markdown",
   "metadata": {},
   "source": [
    "Note it is the *direction and not the magnitude of the derivative* that provides ascent / descent direction for the underlying function. To get at the pure direction provided by the derivative we can divide off its magnitude.\n",
    "\n",
    "\n",
    "For a single input function there are only *two* possible direction to choose from \n",
    "\n",
    "Because of this we can normalize the derivative to have unit length by dividing off its norm as $\\frac{\\frac{\\mathrm{d}}{\\mathrm{d}w}g(w)}{\\left\\Vert \\frac{\\mathrm{d}}{\\mathrm{d}w}g(w) \\right\\Vert_2 }$.  The value of this unit-length derivative is either +1 or -1, which makes sense since there are only two directions to move in when our input is one dimensional - left or right - and only one way to move in either direction one *unit* (i.e., $\\pm 1$).  So it is in fact the case that $\\frac{\\frac{\\mathrm{d}}{\\mathrm{d}w}g(w)}{\\left\\Vert \\frac{\\mathrm{d}}{\\mathrm{d}w}g(w) \\right\\Vert_2 } = \\text{sign}(\\frac{\\mathrm{d}}{\\mathrm{d}w}g(w))$ where $\\text{sign}(\\cdot)$ takes the function taking the arithmetic sign of an input.  \n",
    "\n",
    "\n",
    "In short then, for a single input function $g(w)$ we can say at a point $w$ that in terms of unit-length directions we have that $\\text{direction of ascent} = \\frac{\\frac{\\mathrm{d}}{\\mathrm{d}w}g(w)}{\\left\\Vert \\frac{\\mathrm{d}}{\\mathrm{d}w}g(w) \\right\\Vert_2 }$ and $\\text{direction of descent} =  -\\frac{\\frac{\\mathrm{d}}{\\mathrm{d}w}g(w)}{\\left\\Vert \\frac{\\mathrm{d}}{\\mathrm{d}w}g(w) \\right\\Vert_2 }$."
   ]
  },
  {
   "cell_type": "markdown",
   "metadata": {},
   "source": [
    "## - for multi input"
   ]
  },
  {
   "cell_type": "markdown",
   "metadata": {},
   "source": [
    "Also note as with the single-input case, since we only care about the direction and not the magnitude we can unit-normalize the gradient by dividing by its length as $\\frac{\\nabla g(\\mathbf{w})}{\\Vert \\nabla g(\\mathbf{w}) \\Vert_2 }$, giving the unit-length steepest ascent vector, and $-\\frac{\\nabla g(\\mathbf{w})}{\\Vert \\nabla g(\\mathbf{w}) \\Vert_2 }$ the unit-length steepest descent vector.\n",
    "\n",
    "> At any given input point the (unit-normalized) gradient of a multi-input function provides its direction of steepest *ascent*, in other words the direction in which the gradient tangent hyperplane increases the fastest.  By extension the function itself will - at least locally - increase rapidly in this direction as well.  Likewise the negative (unit-normalized) gradient provides the direction of steepest *descent*, or the direction in which the gradient decreases the fastest, as well as (locally) the function as well."
   ]
  },
  {
   "cell_type": "code",
   "execution_count": null,
   "metadata": {
    "collapsed": true
   },
   "outputs": [],
   "source": []
  }
 ],
 "metadata": {
  "kernelspec": {
   "display_name": "Python 3",
   "language": "python",
   "name": "python3"
  },
  "language_info": {
   "codemirror_mode": {
    "name": "ipython",
    "version": 3
   },
   "file_extension": ".py",
   "mimetype": "text/x-python",
   "name": "python",
   "nbconvert_exporter": "python",
   "pygments_lexer": "ipython3",
   "version": "3.5.0"
  },
  "toc": {
   "colors": {
    "hover_highlight": "#DAA520",
    "navigate_num": "#000000",
    "navigate_text": "#333333",
    "running_highlight": "#FF0000",
    "selected_highlight": "#FFD700",
    "sidebar_border": "#EEEEEE",
    "wrapper_background": "#FFFFFF"
   },
   "moveMenuLeft": true,
   "nav_menu": {
    "height": "66px",
    "width": "252px"
   },
   "navigate_menu": true,
   "number_sections": true,
   "sideBar": true,
   "threshold": 4,
   "toc_cell": false,
   "toc_section_display": "block",
   "toc_window_display": false,
   "widenNotebook": false
  }
 },
 "nbformat": 4,
 "nbformat_minor": 2
}
